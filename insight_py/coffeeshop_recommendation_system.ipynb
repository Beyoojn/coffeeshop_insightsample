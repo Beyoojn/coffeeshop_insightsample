{
 "cells": [
  {
   "cell_type": "markdown",
   "metadata": {},
   "source": [
    "# Increasing Operational Efficiency and Profits Through Coffee Shop Sales Analysis Using Machine Learning"
   ]
  },
  {
   "cell_type": "markdown",
   "metadata": {},
   "source": [
    "## About Dataset\n",
    "\n",
    "The dataset covers sales activities within a local coffee shop, encompassing a range of information such as transaction records and product details. By analyzing this data using SQL queries and data analysis techniques, we aim to uncover valuable insights that can inform decision-making and drive business growth."
   ]
  },
  {
   "cell_type": "markdown",
   "metadata": {},
   "source": [
    "### 1. Overview of the Dataset\n",
    "\n",
    "The dataset is divided into three tables, with each column labeled according to its function. The following sections provide an overview of each table's structure as well as an entity-relationship diagram of the three tables. To enhance visualization, we using Python's Pandas package."
   ]
  },
  {
   "cell_type": "code",
   "execution_count": 16,
   "metadata": {},
   "outputs": [
    {
     "data": {
      "text/html": [
       "<div>\n",
       "<style scoped>\n",
       "    .dataframe tbody tr th:only-of-type {\n",
       "        vertical-align: middle;\n",
       "    }\n",
       "\n",
       "    .dataframe tbody tr th {\n",
       "        vertical-align: top;\n",
       "    }\n",
       "\n",
       "    .dataframe thead th {\n",
       "        text-align: right;\n",
       "    }\n",
       "</style>\n",
       "<table border=\"1\" class=\"dataframe\">\n",
       "  <thead>\n",
       "    <tr style=\"text-align: right;\">\n",
       "      <th></th>\n",
       "      <th>transaction_id</th>\n",
       "      <th>transaction_date</th>\n",
       "      <th>transaction_time</th>\n",
       "      <th>store_id</th>\n",
       "      <th>store_location</th>\n",
       "      <th>product_id</th>\n",
       "      <th>transaction_qty</th>\n",
       "      <th>unit_price</th>\n",
       "      <th>Total_Bill</th>\n",
       "      <th>product_category</th>\n",
       "      <th>product_type</th>\n",
       "      <th>product_detail</th>\n",
       "      <th>Size</th>\n",
       "      <th>Month Name</th>\n",
       "      <th>Day Name</th>\n",
       "      <th>Hour</th>\n",
       "      <th>Month</th>\n",
       "      <th>Day of Week</th>\n",
       "    </tr>\n",
       "  </thead>\n",
       "  <tbody>\n",
       "    <tr>\n",
       "      <th>0</th>\n",
       "      <td>114301</td>\n",
       "      <td>01-06-2023</td>\n",
       "      <td>11:33:29</td>\n",
       "      <td>3</td>\n",
       "      <td>Astoria</td>\n",
       "      <td>45</td>\n",
       "      <td>1</td>\n",
       "      <td>3.0</td>\n",
       "      <td>3.0</td>\n",
       "      <td>Tea</td>\n",
       "      <td>Brewed herbal tea</td>\n",
       "      <td>Peppermint</td>\n",
       "      <td>Large</td>\n",
       "      <td>June</td>\n",
       "      <td>Thursday</td>\n",
       "      <td>11</td>\n",
       "      <td>6</td>\n",
       "      <td>3</td>\n",
       "    </tr>\n",
       "    <tr>\n",
       "      <th>1</th>\n",
       "      <td>115405</td>\n",
       "      <td>02-06-2023</td>\n",
       "      <td>11:18:24</td>\n",
       "      <td>3</td>\n",
       "      <td>Astoria</td>\n",
       "      <td>45</td>\n",
       "      <td>1</td>\n",
       "      <td>3.0</td>\n",
       "      <td>3.0</td>\n",
       "      <td>Tea</td>\n",
       "      <td>Brewed herbal tea</td>\n",
       "      <td>Peppermint</td>\n",
       "      <td>Large</td>\n",
       "      <td>June</td>\n",
       "      <td>Friday</td>\n",
       "      <td>11</td>\n",
       "      <td>6</td>\n",
       "      <td>4</td>\n",
       "    </tr>\n",
       "    <tr>\n",
       "      <th>2</th>\n",
       "      <td>115478</td>\n",
       "      <td>02-06-2023</td>\n",
       "      <td>12:02:45</td>\n",
       "      <td>3</td>\n",
       "      <td>Astoria</td>\n",
       "      <td>45</td>\n",
       "      <td>1</td>\n",
       "      <td>3.0</td>\n",
       "      <td>3.0</td>\n",
       "      <td>Tea</td>\n",
       "      <td>Brewed herbal tea</td>\n",
       "      <td>Peppermint</td>\n",
       "      <td>Large</td>\n",
       "      <td>June</td>\n",
       "      <td>Friday</td>\n",
       "      <td>12</td>\n",
       "      <td>6</td>\n",
       "      <td>4</td>\n",
       "    </tr>\n",
       "    <tr>\n",
       "      <th>3</th>\n",
       "      <td>116288</td>\n",
       "      <td>02-06-2023</td>\n",
       "      <td>19:39:47</td>\n",
       "      <td>3</td>\n",
       "      <td>Astoria</td>\n",
       "      <td>45</td>\n",
       "      <td>1</td>\n",
       "      <td>3.0</td>\n",
       "      <td>3.0</td>\n",
       "      <td>Tea</td>\n",
       "      <td>Brewed herbal tea</td>\n",
       "      <td>Peppermint</td>\n",
       "      <td>Large</td>\n",
       "      <td>June</td>\n",
       "      <td>Friday</td>\n",
       "      <td>19</td>\n",
       "      <td>6</td>\n",
       "      <td>4</td>\n",
       "    </tr>\n",
       "    <tr>\n",
       "      <th>4</th>\n",
       "      <td>116714</td>\n",
       "      <td>03-06-2023</td>\n",
       "      <td>12:24:57</td>\n",
       "      <td>3</td>\n",
       "      <td>Astoria</td>\n",
       "      <td>45</td>\n",
       "      <td>1</td>\n",
       "      <td>3.0</td>\n",
       "      <td>3.0</td>\n",
       "      <td>Tea</td>\n",
       "      <td>Brewed herbal tea</td>\n",
       "      <td>Peppermint</td>\n",
       "      <td>Large</td>\n",
       "      <td>June</td>\n",
       "      <td>Saturday</td>\n",
       "      <td>12</td>\n",
       "      <td>6</td>\n",
       "      <td>5</td>\n",
       "    </tr>\n",
       "  </tbody>\n",
       "</table>\n",
       "</div>"
      ],
      "text/plain": [
       "   transaction_id transaction_date transaction_time  store_id store_location  \\\n",
       "0          114301       01-06-2023         11:33:29         3        Astoria   \n",
       "1          115405       02-06-2023         11:18:24         3        Astoria   \n",
       "2          115478       02-06-2023         12:02:45         3        Astoria   \n",
       "3          116288       02-06-2023         19:39:47         3        Astoria   \n",
       "4          116714       03-06-2023         12:24:57         3        Astoria   \n",
       "\n",
       "   product_id  transaction_qty  unit_price  Total_Bill product_category  \\\n",
       "0          45                1         3.0         3.0              Tea   \n",
       "1          45                1         3.0         3.0              Tea   \n",
       "2          45                1         3.0         3.0              Tea   \n",
       "3          45                1         3.0         3.0              Tea   \n",
       "4          45                1         3.0         3.0              Tea   \n",
       "\n",
       "        product_type product_detail   Size Month Name  Day Name  Hour  Month  \\\n",
       "0  Brewed herbal tea     Peppermint  Large       June  Thursday    11      6   \n",
       "1  Brewed herbal tea     Peppermint  Large       June    Friday    11      6   \n",
       "2  Brewed herbal tea     Peppermint  Large       June    Friday    12      6   \n",
       "3  Brewed herbal tea     Peppermint  Large       June    Friday    19      6   \n",
       "4  Brewed herbal tea     Peppermint  Large       June  Saturday    12      6   \n",
       "\n",
       "   Day of Week  \n",
       "0            3  \n",
       "1            4  \n",
       "2            4  \n",
       "3            4  \n",
       "4            5  "
      ]
     },
     "execution_count": 16,
     "metadata": {},
     "output_type": "execute_result"
    }
   ],
   "source": [
    "# Load dataset\n",
    "import pandas as pd\n",
    "df = pd.read_csv('Project.csv')\n",
    "df.head()"
   ]
  },
  {
   "cell_type": "markdown",
   "metadata": {},
   "source": [
    "## Data Cleaning"
   ]
  },
  {
   "cell_type": "markdown",
   "metadata": {},
   "source": [
    "### Missing Values"
   ]
  },
  {
   "cell_type": "code",
   "execution_count": 17,
   "metadata": {},
   "outputs": [
    {
     "data": {
      "text/plain": [
       "transaction_id      0\n",
       "transaction_date    0\n",
       "transaction_time    0\n",
       "store_id            0\n",
       "store_location      0\n",
       "product_id          0\n",
       "transaction_qty     0\n",
       "unit_price          0\n",
       "Total_Bill          0\n",
       "product_category    0\n",
       "product_type        0\n",
       "product_detail      0\n",
       "Size                0\n",
       "Month Name          0\n",
       "Day Name            0\n",
       "Hour                0\n",
       "Month               0\n",
       "Day of Week         0\n",
       "dtype: int64"
      ]
     },
     "execution_count": 17,
     "metadata": {},
     "output_type": "execute_result"
    }
   ],
   "source": [
    "df.isna().sum()"
   ]
  },
  {
   "cell_type": "markdown",
   "metadata": {},
   "source": [
    "### Duplicate"
   ]
  },
  {
   "cell_type": "code",
   "execution_count": 18,
   "metadata": {},
   "outputs": [
    {
     "data": {
      "text/plain": [
       "False"
      ]
     },
     "execution_count": 18,
     "metadata": {},
     "output_type": "execute_result"
    }
   ],
   "source": [
    "df.duplicated().any()"
   ]
  },
  {
   "cell_type": "markdown",
   "metadata": {},
   "source": [
    "## Feature Encoding"
   ]
  },
  {
   "cell_type": "code",
   "execution_count": 19,
   "metadata": {},
   "outputs": [],
   "source": [
    "df = df.drop(columns=['transaction_id',\n",
    "                      'transaction_date',\n",
    "                      'transaction_time',\n",
    "                      'store_id',\n",
    "                      'product_id',\n",
    "                      'Day of Week',\n",
    "                      'product_type',\n",
    "                      'product_detail'])"
   ]
  },
  {
   "cell_type": "code",
   "execution_count": 20,
   "metadata": {},
   "outputs": [],
   "source": [
    "mapping_store = {\n",
    "    'Astoria' : 1,\n",
    "    \"Hell's Kitchen\" : 2,\n",
    "    'Lower Manhattan' : 3\n",
    "}\n",
    "\n",
    "df['store_location'] = df['store_location'].map(mapping_store)"
   ]
  },
  {
   "cell_type": "code",
   "execution_count": 21,
   "metadata": {},
   "outputs": [],
   "source": [
    "mapping_product = {\n",
    "    'Bakery' : 1,\n",
    "    'Branded' : 2,\n",
    "    'Coffee' : 3,\n",
    "    'Coffee beans' : 4,\n",
    "    'Drinking Chocolate' : 5,\n",
    "    'Flavours' : 6,\n",
    "    'Loose Tea' : 7,\n",
    "    'Packaged Chocolate' : 8,\n",
    "    'Tea' : 9\n",
    "}\n",
    "\n",
    "df['product_category'] = df['product_category'].map(mapping_product)"
   ]
  },
  {
   "cell_type": "code",
   "execution_count": 22,
   "metadata": {},
   "outputs": [],
   "source": [
    "mapping_size = {\n",
    "    'Large' : 1, \n",
    "    'Not Defined' : 2, \n",
    "    'Regular' : 3, \n",
    "    'Small' : 4\n",
    "}\n",
    "\n",
    "df['Size'] = df['Size'].map(mapping_size)"
   ]
  },
  {
   "cell_type": "code",
   "execution_count": 23,
   "metadata": {},
   "outputs": [],
   "source": [
    "mapping_day = {\n",
    "    'Monday' : 1, \n",
    "    'Tuesday' : 2, \n",
    "    'Wednesday' : 3, \n",
    "    'Thursday' :4,\n",
    "    'Friday' : 5, \n",
    "    'Saturday' : 6,\n",
    "    'Sunday' : 7\n",
    "}\n",
    "\n",
    "df['day'] = df['Day Name'].map(mapping_day)"
   ]
  },
  {
   "cell_type": "code",
   "execution_count": 24,
   "metadata": {},
   "outputs": [],
   "source": [
    "df = df.drop(columns=['Month Name', 'Day Name'])"
   ]
  },
  {
   "cell_type": "code",
   "execution_count": 25,
   "metadata": {},
   "outputs": [
    {
     "data": {
      "text/html": [
       "<div>\n",
       "<style scoped>\n",
       "    .dataframe tbody tr th:only-of-type {\n",
       "        vertical-align: middle;\n",
       "    }\n",
       "\n",
       "    .dataframe tbody tr th {\n",
       "        vertical-align: top;\n",
       "    }\n",
       "\n",
       "    .dataframe thead th {\n",
       "        text-align: right;\n",
       "    }\n",
       "</style>\n",
       "<table border=\"1\" class=\"dataframe\">\n",
       "  <thead>\n",
       "    <tr style=\"text-align: right;\">\n",
       "      <th></th>\n",
       "      <th>store_location</th>\n",
       "      <th>transaction_qty</th>\n",
       "      <th>unit_price</th>\n",
       "      <th>Total_Bill</th>\n",
       "      <th>product_category</th>\n",
       "      <th>Size</th>\n",
       "      <th>Hour</th>\n",
       "      <th>Month</th>\n",
       "      <th>day</th>\n",
       "    </tr>\n",
       "  </thead>\n",
       "  <tbody>\n",
       "    <tr>\n",
       "      <th>0</th>\n",
       "      <td>1</td>\n",
       "      <td>1</td>\n",
       "      <td>3.0</td>\n",
       "      <td>3.0</td>\n",
       "      <td>9</td>\n",
       "      <td>1</td>\n",
       "      <td>11</td>\n",
       "      <td>6</td>\n",
       "      <td>4</td>\n",
       "    </tr>\n",
       "    <tr>\n",
       "      <th>1</th>\n",
       "      <td>1</td>\n",
       "      <td>1</td>\n",
       "      <td>3.0</td>\n",
       "      <td>3.0</td>\n",
       "      <td>9</td>\n",
       "      <td>1</td>\n",
       "      <td>11</td>\n",
       "      <td>6</td>\n",
       "      <td>5</td>\n",
       "    </tr>\n",
       "    <tr>\n",
       "      <th>2</th>\n",
       "      <td>1</td>\n",
       "      <td>1</td>\n",
       "      <td>3.0</td>\n",
       "      <td>3.0</td>\n",
       "      <td>9</td>\n",
       "      <td>1</td>\n",
       "      <td>12</td>\n",
       "      <td>6</td>\n",
       "      <td>5</td>\n",
       "    </tr>\n",
       "    <tr>\n",
       "      <th>3</th>\n",
       "      <td>1</td>\n",
       "      <td>1</td>\n",
       "      <td>3.0</td>\n",
       "      <td>3.0</td>\n",
       "      <td>9</td>\n",
       "      <td>1</td>\n",
       "      <td>19</td>\n",
       "      <td>6</td>\n",
       "      <td>5</td>\n",
       "    </tr>\n",
       "    <tr>\n",
       "      <th>4</th>\n",
       "      <td>1</td>\n",
       "      <td>1</td>\n",
       "      <td>3.0</td>\n",
       "      <td>3.0</td>\n",
       "      <td>9</td>\n",
       "      <td>1</td>\n",
       "      <td>12</td>\n",
       "      <td>6</td>\n",
       "      <td>6</td>\n",
       "    </tr>\n",
       "  </tbody>\n",
       "</table>\n",
       "</div>"
      ],
      "text/plain": [
       "   store_location  transaction_qty  unit_price  Total_Bill  product_category  \\\n",
       "0               1                1         3.0         3.0                 9   \n",
       "1               1                1         3.0         3.0                 9   \n",
       "2               1                1         3.0         3.0                 9   \n",
       "3               1                1         3.0         3.0                 9   \n",
       "4               1                1         3.0         3.0                 9   \n",
       "\n",
       "   Size  Hour  Month  day  \n",
       "0     1    11      6    4  \n",
       "1     1    11      6    5  \n",
       "2     1    12      6    5  \n",
       "3     1    19      6    5  \n",
       "4     1    12      6    6  "
      ]
     },
     "execution_count": 25,
     "metadata": {},
     "output_type": "execute_result"
    }
   ],
   "source": [
    "df.head()"
   ]
  },
  {
   "cell_type": "markdown",
   "metadata": {},
   "source": [
    "## Feature Transformation"
   ]
  },
  {
   "cell_type": "code",
   "execution_count": 26,
   "metadata": {},
   "outputs": [
    {
     "data": {
      "text/plain": [
       "<Axes: >"
      ]
     },
     "execution_count": 26,
     "metadata": {},
     "output_type": "execute_result"
    },
    {
     "data": {
      "image/png": "[encoded data removed]",
      "text/plain": [
       "<Figure size 1000x800 with 2 Axes>"
      ]
     },
     "metadata": {},
     "output_type": "display_data"
    }
   ],
   "source": [
    "import seaborn as sns\n",
    "import matplotlib.pyplot as plt\n",
    "plt.figure(figsize=(10,8))\n",
    "sns.heatmap(data=df.corr(), annot=True)"
   ]
  },
  {
   "cell_type": "markdown",
   "metadata": {},
   "source": [
    "## Modeling"
   ]
  },
  {
   "cell_type": "markdown",
   "metadata": {},
   "source": [
    "### Decision Trees"
   ]
  },
  {
   "cell_type": "code",
   "execution_count": 45,
   "metadata": {},
   "outputs": [],
   "source": [
    "X = df.drop(columns=['Total_Bill'])\n",
    "y = df['Total_Bill']"
   ]
  },
  {
   "cell_type": "code",
   "execution_count": 52,
   "metadata": {},
   "outputs": [],
   "source": [
    "def randomforest(X, y, test_size=0.2, random_state=42):\n",
    "    from sklearn.model_selection import train_test_split\n",
    "    X_train, X_test, y_train, y_test = train_test_split(X, y, test_size=0.2, random_state=random_state)\n",
    "\n",
    "    from sklearn.preprocessing import StandardScaler\n",
    "    st_x = StandardScaler()\n",
    "    X_train = st_x.fit_transform(X_train)\n",
    "    X_test = st_x.transform(X_test)\n",
    "\n",
    "    from sklearn.ensemble import RandomForestRegressor\n",
    "    model = RandomForestRegressor()\n",
    "    model.fit(X_train, y_train)\n",
    "    X_train_prediction = model.predict(X_train)\n",
    "    X_test_prediction = model.predict(X_test)\n",
    "\n",
    "    from sklearn.metrics import mean_absolute_error, mean_squared_error, r2_score\n",
    "    mae_train = mean_absolute_error(y_train, X_train_prediction)\n",
    "    mse_train = mean_squared_error(y_train, X_train_prediction)\n",
    "    rmse_train = mean_squared_error(y_train, X_train_prediction, squared=False)\n",
    "    r2_train = r2_score(y_train, X_train_prediction)\n",
    "    \n",
    "    mae_test = mean_absolute_error(y_test, X_test_prediction)\n",
    "    mse_test = mean_squared_error(y_test, X_test_prediction)\n",
    "    rmse_test = mean_squared_error(y_test, X_test_prediction, squared=False)\n",
    "    r2_test = r2_score(y_test, X_test_prediction)\n",
    "\n",
    "    return {print('Mean Absolute Error (Train) =', mae_train),\n",
    "            print('Mean Squared Error (Train) =', mse_train),\n",
    "            print('Root Mean Squared Error (Train) =', rmse_train),\n",
    "            print('R² Score (Train) =', r2_train),\n",
    "            print('Mean Absolute Error (Test) =', mae_test),\n",
    "            print('Mean Squared Error (Test) =', mse_test),\n",
    "            print('Root Mean Squared Error (Test) =', rmse_test),\n",
    "            print('R² Score (Test) =', r2_test)}"
   ]
  },
  {
   "cell_type": "code",
   "execution_count": 53,
   "metadata": {},
   "outputs": [
    {
     "name": "stdout",
     "output_type": "stream",
     "text": [
      "Mean Absolute Error (Train) = 0.00014747426483108822\n",
      "Mean Squared Error (Train) = 0.0011271422748382125\n",
      "Root Mean Squared Error (Train) = 0.033572939621638924\n",
      "R² Score (Train) = 0.9999330980263953\n",
      "Mean Absolute Error (Test) = 0.0002930525751092341\n",
      "Mean Squared Error (Test) = 0.0025612795064377694\n",
      "Root Mean Squared Error (Test) = 0.05060908521636969\n",
      "R² Score (Test) = 0.9998833151569331\n"
     ]
    },
    {
     "name": "stderr",
     "output_type": "stream",
     "text": [
      "c:\\Users\\User\\AppData\\Local\\Programs\\Python\\Python312\\Lib\\site-packages\\sklearn\\metrics\\_regression.py:492: FutureWarning: 'squared' is deprecated in version 1.4 and will be removed in 1.6. To calculate the root mean squared error, use the function'root_mean_squared_error'.\n",
      "  warnings.warn(\n",
      "c:\\Users\\User\\AppData\\Local\\Programs\\Python\\Python312\\Lib\\site-packages\\sklearn\\metrics\\_regression.py:492: FutureWarning: 'squared' is deprecated in version 1.4 and will be removed in 1.6. To calculate the root mean squared error, use the function'root_mean_squared_error'.\n",
      "  warnings.warn(\n"
     ]
    },
    {
     "data": {
      "text/plain": [
       "{None}"
      ]
     },
     "execution_count": 53,
     "metadata": {},
     "output_type": "execute_result"
    }
   ],
   "source": [
    "randomforest(X, y)"
   ]
  },
  {
   "cell_type": "markdown",
   "metadata": {},
   "source": [
    "## Summary"
   ]
  },
  {
   "cell_type": "markdown",
   "metadata": {},
   "source": [
    "### 1. Mean Absolute Error (MAE)\n",
    "- **Train**: 0.000147474\n",
    "- **Test**: 0.000293053\n",
    "\n",
    "**MAE** measures the average absolute difference between predicted values and actual values. A very small MAE value indicates that the model's predictions are very close to the actual values.\n",
    "\n",
    "### 2. Mean Squared Error (MSE)\n",
    "- **Train**: 0.001127142\n",
    "- **Test**: 0.002561280\n",
    "\n",
    "**MSE** measures the average of the squared differences between predicted values and actual values. A small MSE value means the model’s average prediction error is low. Since MSE includes squared errors, it is more sensitive to outliers.\n",
    "\n",
    "### 3. Root Mean Squared Error (RMSE)\n",
    "- **Train**: 0.033573\n",
    "- **Test**: 0.050609\n",
    "\n",
    "**RMSE** is the square root of MSE and provides an error measure in the same units as the target variable. A small RMSE indicates that the model's predictions are quite close to the actual values.\n",
    "\n",
    "### 4. R² Score (Coefficient of Determination)\n",
    "- **Train**: 0.999933098\n",
    "- **Test**: 0.999883315\n",
    "\n",
    "**R² Score** measures the proportion of the variance in the target variable that is explained by the model. R² values range from 0 to 1, where values close to 1 indicate that the model explains most of the variance in the data. A very high R² score means that the model is excellent at predicting values for both the training and test datasets.\n",
    "\n",
    "### Summary of Results\n",
    "\n",
    "- **Model Performance**: Your model appears to perform exceptionally well on both the training and test datasets, with very low MAE, MSE, and RMSE values indicating minimal prediction errors.\n",
    "- **Overfitting**: Since the metrics for the training and test data are very similar and close to optimal values, this suggests that the model is likely not overfitting and can generalize well to unseen data.\n",
    "- **Model Fit**: The R² Score close to 1 indicates that the model is very effective in explaining the variance in the data.\n",
    "\n",
    "Overall, your regression model performs very well with low prediction errors and a high ability to explain data variance."
   ]
  }
 ],
 "metadata": {
  "kernelspec": {
   "display_name": "Python 3",
   "language": "python",
   "name": "python3"
  },
  "language_info": {
   "codemirror_mode": {
    "name": "ipython",
    "version": 3
   },
   "file_extension": ".py",
   "mimetype": "text/x-python",
   "name": "python",
   "nbconvert_exporter": "python",
   "pygments_lexer": "ipython3",
   "version": "3.12.3"
  }
 },
 "nbformat": 4,
 "nbformat_minor": 2
}
